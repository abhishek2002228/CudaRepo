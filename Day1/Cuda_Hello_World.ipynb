{
  "nbformat": 4,
  "nbformat_minor": 0,
  "metadata": {
    "colab": {
      "provenance": [],
      "gpuType": "T4"
    },
    "kernelspec": {
      "name": "python3",
      "display_name": "Python 3"
    },
    "language_info": {
      "name": "python"
    }
  },
  "cells": [
    {
      "cell_type": "code",
      "execution_count": null,
      "metadata": {
        "colab": {
          "base_uri": "https://localhost:8080/"
        },
        "id": "8sGvpblvBvdb",
        "outputId": "7788e672-2bb9-40a3-d1fd-bac3cc86ecd2"
      },
      "outputs": [
        {
          "output_type": "stream",
          "name": "stdout",
          "text": [
            "nvcc: NVIDIA (R) Cuda compiler driver\n",
            "Copyright (c) 2005-2024 NVIDIA Corporation\n",
            "Built on Thu_Jun__6_02:18:23_PDT_2024\n",
            "Cuda compilation tools, release 12.5, V12.5.82\n",
            "Build cuda_12.5.r12.5/compiler.34385749_0\n",
            "Thu Jun 19 09:27:46 2025       \n",
            "+-----------------------------------------------------------------------------------------+\n",
            "| NVIDIA-SMI 550.54.15              Driver Version: 550.54.15      CUDA Version: 12.4     |\n",
            "|-----------------------------------------+------------------------+----------------------+\n",
            "| GPU  Name                 Persistence-M | Bus-Id          Disp.A | Volatile Uncorr. ECC |\n",
            "| Fan  Temp   Perf          Pwr:Usage/Cap |           Memory-Usage | GPU-Util  Compute M. |\n",
            "|                                         |                        |               MIG M. |\n",
            "|=========================================+========================+======================|\n",
            "|   0  Tesla T4                       Off |   00000000:00:04.0 Off |                    0 |\n",
            "| N/A   61C    P8             11W /   70W |       0MiB /  15360MiB |      0%      Default |\n",
            "|                                         |                        |                  N/A |\n",
            "+-----------------------------------------+------------------------+----------------------+\n",
            "                                                                                         \n",
            "+-----------------------------------------------------------------------------------------+\n",
            "| Processes:                                                                              |\n",
            "|  GPU   GI   CI        PID   Type   Process name                              GPU Memory |\n",
            "|        ID   ID                                                               Usage      |\n",
            "|=========================================================================================|\n",
            "|  No running processes found                                                             |\n",
            "+-----------------------------------------------------------------------------------------+\n"
          ]
        }
      ],
      "source": [
        "!nvcc --version\n",
        "!nvidia-smi"
      ]
    },
    {
      "cell_type": "code",
      "source": [
        "!pip install nvcc4jupyter"
      ],
      "metadata": {
        "colab": {
          "base_uri": "https://localhost:8080/"
        },
        "id": "XI52CN80CUds",
        "outputId": "1fb7ed96-5112-4899-a361-ab21a1957ea2"
      },
      "execution_count": null,
      "outputs": [
        {
          "output_type": "stream",
          "name": "stdout",
          "text": [
            "Collecting nvcc4jupyter\n",
            "  Downloading nvcc4jupyter-1.2.1-py3-none-any.whl.metadata (5.1 kB)\n",
            "Downloading nvcc4jupyter-1.2.1-py3-none-any.whl (10 kB)\n",
            "Installing collected packages: nvcc4jupyter\n",
            "Successfully installed nvcc4jupyter-1.2.1\n"
          ]
        }
      ]
    },
    {
      "cell_type": "code",
      "source": [
        "%load_ext nvcc4jupyter"
      ],
      "metadata": {
        "colab": {
          "base_uri": "https://localhost:8080/"
        },
        "id": "YiN53eDPCojF",
        "outputId": "567e7097-b64c-4442-d3df-96c4b7f684da"
      },
      "execution_count": null,
      "outputs": [
        {
          "output_type": "stream",
          "name": "stdout",
          "text": [
            "Detected platform \"Colab\". Running its setup...\n",
            "Source files will be saved in \"/tmp/tmpx0r4lb_5\".\n"
          ]
        }
      ]
    },
    {
      "cell_type": "code",
      "source": [
        "%%cuda\n",
        "#include <iostream>\n",
        "    int\n",
        "    main()\n",
        "{\n",
        "    std::cout << \"Testing Host Code..\\n\";\n",
        "    return 0;\n",
        "}"
      ],
      "metadata": {
        "colab": {
          "base_uri": "https://localhost:8080/"
        },
        "id": "cUCrCgxjCsYh",
        "outputId": "d3fc337b-1d8f-4f01-b2b1-0c827b33483a"
      },
      "execution_count": null,
      "outputs": [
        {
          "output_type": "stream",
          "name": "stdout",
          "text": [
            "Testing Host Code..\n",
            "\n"
          ]
        }
      ]
    },
    {
      "cell_type": "code",
      "source": [
        "%%cuda\n",
        "\n",
        "#include <stdio.h>\n",
        "#include <stdlib.h>\n",
        "#include <math.h>\n",
        "#include <time.h>\n",
        "\n",
        "void VecInit(float* A_h, float* B_h, int n) {\n",
        "    for (int i=0; i < n; ++i) {\n",
        "      A_h[i] = i;\n",
        "      B_h[i] = n - 1 - i;\n",
        "    }\n",
        "}\n",
        "\n",
        "void VecAdd(float* A_h, float* B_h, float* C_h, int n){\n",
        "    for (int i = 0; i < n; ++i) {\n",
        "        C_h[i] = A_h[i] + B_h[i];\n",
        "    }\n",
        "}\n",
        "\n",
        "void VecValidate(float* A_h, float* B_h, float* C_h, int n) {\n",
        "    int error_counter = 0;\n",
        "    float epsilon = 1e-6;\n",
        "    for (int i = 0; i < n; ++i) {\n",
        "        float temp = A_h[i] + B_h[i];\n",
        "        if (fabs(temp - C_h[i]) > epsilon) {\n",
        "            ++error_counter;\n",
        "        }\n",
        "    }\n",
        "    printf(\"Error Counter is %d \\n\", error_counter);\n",
        "}\n",
        "\n",
        "int main() {\n",
        "    int n;\n",
        "    float *A_h;\n",
        "    float *B_h;\n",
        "    float *C_h;\n",
        "    n = 10000;\n",
        "    A_h = (float*)malloc(n*sizeof(float));\n",
        "    B_h = (float*)malloc(n*sizeof(float));\n",
        "    C_h = (float*)malloc(n*sizeof(float));\n",
        "\n",
        "    if (A_h == NULL || B_h == NULL || C_h == NULL) {\n",
        "      printf(\"Memory allocation failed\\n\");\n",
        "      return 1;\n",
        "    }\n",
        "\n",
        "    VecInit(A_h, B_h, n);\n",
        "\n",
        "    clock_t begin = clock();\n",
        "\n",
        "    VecAdd(A_h, B_h, C_h, n);\n",
        "\n",
        "    clock_t end = clock();\n",
        "    double time_spent = (double)(end - begin) / CLOCKS_PER_SEC;\n",
        "    printf(\"Time consumed doing sequential VecAdd is %f seconds\\n\", time_spent);\n",
        "    VecValidate(A_h, B_h, C_h, n);\n",
        "\n",
        "    free(A_h);\n",
        "    free(B_h);\n",
        "    free(C_h);\n",
        "\n",
        "    return 0;\n",
        "}"
      ],
      "metadata": {
        "colab": {
          "base_uri": "https://localhost:8080/"
        },
        "id": "v1ZxplVoDCUm",
        "outputId": "5caf03e2-40ee-4a7c-e7b0-2511ca059044"
      },
      "execution_count": null,
      "outputs": [
        {
          "output_type": "stream",
          "name": "stdout",
          "text": [
            "Time consumed doing sequential VecAdd is 0.000046 seconds\n",
            "Error Counter is 0 \n",
            "\n"
          ]
        }
      ]
    },
    {
      "cell_type": "code",
      "source": [
        "%%writefile vector_add.cu\n",
        "\n",
        "#include <stdio.h>\n",
        "#include <stdlib.h>\n",
        "#include <math.h>\n",
        "\n",
        "__global__\n",
        "void vecAddKernel(float* A_d, float* B_d, float* C_d, int n) {\n",
        "    //printf(\"Kernel launched to GPU...\\n\");\n",
        "    int i = blockIdx.x * blockDim.x + threadIdx.x;\n",
        "    if (i < n) {\n",
        "        C_d[i] = A_d[i] + B_d[i];\n",
        "        //printf(\"%f, %f, %f\\n\", A_d[i], B_d[i], C_d[i]);\n",
        "    }\n",
        "}\n",
        "\n",
        "void VecInit(float* A_h, float* B_h, int n) {\n",
        "    for (int i=0; i < n; ++i) {\n",
        "      A_h[i] = i;\n",
        "      B_h[i] = n - 1 - i;\n",
        "    }\n",
        "}\n",
        "\n",
        "void VecAdd(float* A_h, float* B_h, float* C_h, int n){\n",
        "    float* A_d;\n",
        "    float* B_d;\n",
        "    float* C_d;\n",
        "    cudaEvent_t start, stop;\n",
        "    cudaEventCreate(&start);\n",
        "    cudaEventCreate(&stop);\n",
        "\n",
        "\n",
        "    int size = n * sizeof(float);\n",
        "\n",
        "\n",
        "    cudaMalloc((void **)&A_d, size);\n",
        "    cudaMalloc((void **)&B_d, size);\n",
        "    cudaMalloc((void **)&C_d, size);\n",
        "\n",
        "    clock_t begin = clock();\n",
        "\n",
        "    cudaMemcpy(A_d, A_h, size, cudaMemcpyHostToDevice);\n",
        "    cudaMemcpy(B_d, B_h, size, cudaMemcpyHostToDevice);\n",
        "\n",
        "    clock_t end = clock();\n",
        "    double time_spent = (double)(end - begin) / CLOCKS_PER_SEC;\n",
        "    printf(\"Time consumed doing device input mem copy is %f seconds\\n\", time_spent);\n",
        "\n",
        "    cudaEventRecord(start);\n",
        "    //number of blocks in grid is ceil(n/256) and number of threads per block is 256.\n",
        "    vecAddKernel<<<ceil(n/256.0), 256>>>(A_d, B_d, C_d, n);\n",
        "    cudaEventRecord(stop);\n",
        "\n",
        "    cudaError_t err = cudaGetLastError();\n",
        "    if (err != cudaSuccess) {\n",
        "      printf(\"Kernel launch failed: %s\\n\", cudaGetErrorString(err));\n",
        "    }\n",
        "\n",
        "    begin = clock();\n",
        "    cudaMemcpy(C_h, C_d, size, cudaMemcpyDeviceToHost);\n",
        "    end = clock();\n",
        "    time_spent = (double)(end - begin) / CLOCKS_PER_SEC;\n",
        "\n",
        "    printf (\"Time consumed doing device otuput memeory copy is %f seconds\\n\", time_spent);\n",
        "\n",
        "\n",
        "    cudaEventSynchronize(stop);\n",
        "    float milliseconds = 0;\n",
        "    cudaEventElapsedTime(&milliseconds, start, stop);\n",
        "\n",
        "    printf(\"Elapsed time for the vecAddKernel is %f seconds\\n\", milliseconds/1000);\n",
        "    cudaFree(A_d);\n",
        "    cudaFree(B_d);\n",
        "    cudaFree(C_d);\n",
        "\n",
        "}\n",
        "\n",
        "void VecValidate(float* A_h, float* B_h, float* C_h, int n) {\n",
        "    int error_counter = 0;\n",
        "    float epsilon = 1e-6;\n",
        "    for (int i = 0; i < n; ++i) {\n",
        "        float temp = A_h[i] + B_h[i];\n",
        "        //printf(\"%f, %f, %f, %f\\n\", A_h[i], B_h[i], temp, C_h[i]);\n",
        "        if (fabs(temp - C_h[i]) > epsilon) {\n",
        "            ++error_counter;\n",
        "        }\n",
        "    }\n",
        "    printf(\"Error Counter is %d \\n\", error_counter);\n",
        "}\n",
        "\n",
        "int main() {\n",
        "    int n;\n",
        "    float *A_h;\n",
        "    float *B_h;\n",
        "    float *C_h;\n",
        "    n = 10000;\n",
        "    A_h = (float*)malloc(n*sizeof(float));\n",
        "    B_h = (float*)malloc(n*sizeof(float));\n",
        "    C_h = (float*)malloc(n*sizeof(float));\n",
        "\n",
        "    if (A_h == NULL || B_h == NULL || C_h == NULL) {\n",
        "      printf(\"Memory allocation failed\\n\");\n",
        "      return 1;\n",
        "    }\n",
        "\n",
        "    VecInit(A_h, B_h, n);\n",
        "\n",
        "    clock_t begin = clock();\n",
        "\n",
        "    VecAdd(A_h, B_h, C_h, n);\n",
        "\n",
        "    clock_t end = clock();\n",
        "    double time_spent = (double)(end - begin) / CLOCKS_PER_SEC;\n",
        "    printf(\"Time consumed doing parallel VecAdd is %f seconds\\n\", time_spent);\n",
        "\n",
        "    VecValidate(A_h, B_h, C_h, n);\n",
        "\n",
        "    free(A_h);\n",
        "    free(B_h);\n",
        "    free(C_h);\n",
        "\n",
        "    return 0;\n",
        "}"
      ],
      "metadata": {
        "id": "ftp7ApSGQGZf",
        "colab": {
          "base_uri": "https://localhost:8080/"
        },
        "outputId": "12fa33ec-996b-46e6-83b8-3e34a76b1b55"
      },
      "execution_count": null,
      "outputs": [
        {
          "output_type": "stream",
          "name": "stdout",
          "text": [
            "Writing vector_add.cu\n"
          ]
        }
      ]
    },
    {
      "cell_type": "code",
      "source": [
        "!nvcc -arch=sm_75 vector_add.cu -o vector_add"
      ],
      "metadata": {
        "id": "N9v0Nd1A4iHM"
      },
      "execution_count": null,
      "outputs": []
    },
    {
      "cell_type": "code",
      "source": [
        "!nvprof ./vector_add"
      ],
      "metadata": {
        "colab": {
          "base_uri": "https://localhost:8080/"
        },
        "id": "DA9EVbh6iPcy",
        "outputId": "f33feb6e-ee49-465b-bfb4-e5fbb3479e65"
      },
      "execution_count": null,
      "outputs": [
        {
          "output_type": "stream",
          "name": "stdout",
          "text": [
            "==2817== NVPROF is profiling process 2817, command: ./vector_add\n",
            "Time consumed doing device input mem copy is 0.000068 seconds\n",
            "Time consumed doing device otuput memeory copy is 0.000054 seconds\n",
            "Elapsed time for the vecAddKernel is 0.000154 seconds\n",
            "Time consumed doing parallel VecAdd is 0.214536 seconds\n",
            "Error Counter is 0 \n",
            "==2817== Profiling application: ./vector_add\n",
            "==2817== Profiling result:\n",
            "            Type  Time(%)      Time     Calls       Avg       Min       Max  Name\n",
            " GPU activities:   59.51%  12.416us         2  6.2080us  6.0160us  6.4000us  [CUDA memcpy HtoD]\n",
            "                   23.93%  4.9920us         1  4.9920us  4.9920us  4.9920us  [CUDA memcpy DtoH]\n",
            "                   16.56%  3.4560us         1  3.4560us  3.4560us  3.4560us  vecAddKernel(float*, float*, float*, int)\n",
            "      API calls:   99.62%  186.61ms         2  93.306ms     775ns  186.61ms  cudaEventCreate\n",
            "                    0.08%  151.28us       114  1.3270us     107ns  53.947us  cuDeviceGetAttribute\n",
            "                    0.07%  137.82us         1  137.82us  137.82us  137.82us  cudaLaunchKernel\n",
            "                    0.07%  137.76us         3  45.920us  3.0620us  130.29us  cudaMalloc\n",
            "                    0.07%  133.84us         3  44.614us  5.3110us  118.56us  cudaFree\n",
            "                    0.06%  112.81us         3  37.604us  25.149us  52.518us  cudaMemcpy\n",
            "                    0.01%  14.553us         2  7.2760us  4.0570us  10.496us  cudaEventRecord\n",
            "                    0.01%  10.194us         1  10.194us  10.194us  10.194us  cuDeviceGetName\n",
            "                    0.00%  6.7520us         1  6.7520us  6.7520us  6.7520us  cuDeviceGetPCIBusId\n",
            "                    0.00%  3.8570us         1  3.8570us  3.8570us  3.8570us  cudaEventSynchronize\n",
            "                    0.00%  3.6090us         1  3.6090us  3.6090us  3.6090us  cudaEventElapsedTime\n",
            "                    0.00%  1.8360us         3     612ns     132ns  1.4700us  cuDeviceGetCount\n",
            "                    0.00%     670ns         2     335ns     127ns     543ns  cuDeviceGet\n",
            "                    0.00%     585ns         1     585ns     585ns     585ns  cuModuleGetLoadingMode\n",
            "                    0.00%     433ns         1     433ns     433ns     433ns  cuDeviceTotalMem\n",
            "                    0.00%     429ns         1     429ns     429ns     429ns  cudaGetLastError\n",
            "                    0.00%     191ns         1     191ns     191ns     191ns  cuDeviceGetUuid\n"
          ]
        }
      ]
    },
    {
      "cell_type": "code",
      "source": [],
      "metadata": {
        "id": "S78N0Tj5iRYZ"
      },
      "execution_count": null,
      "outputs": []
    }
  ]
}